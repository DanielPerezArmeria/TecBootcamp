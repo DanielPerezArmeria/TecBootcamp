{
 "cells": [
  {
   "cell_type": "code",
   "execution_count": 5,
   "metadata": {},
   "outputs": [],
   "source": [
    "# Imports\n",
    "\n",
    "import pandas as pd\n",
    "from bs4 import BeautifulSoup as bs\n",
    "import requests\n",
    "from splinter import Browser\n",
    "import re"
   ]
  },
  {
   "cell_type": "code",
   "execution_count": 2,
   "metadata": {},
   "outputs": [],
   "source": [
    "# Set up Splinter\n",
    "executable_path = {'executable_path': 'chromedriver.exe'}"
   ]
  },
  {
   "cell_type": "code",
   "execution_count": 32,
   "metadata": {},
   "outputs": [
    {
     "name": "stdout",
     "output_type": "stream",
     "text": [
      "What's Mars Solar Conjunction, and Why Does It Matter?\n",
      "NASA spacecraft at Mars are going to be on their own for a few weeks when the Sun comes between Mars and Earth, interrupting communications.\n"
     ]
    }
   ],
   "source": [
    "# Soupify the NASA Mars url\n",
    "url = f\"https://mars.nasa.gov/news/\"\n",
    "with Browser('chrome', **executable_path, headless=False) as browser:\n",
    "    browser.visit(url)\n",
    "    soup = bs(browser.html, 'html.parser')\n",
    "\n",
    "\n",
    "# Scrape the relevant data\n",
    "newsTitle = soup.find(\"div\", class_=\"content_title\").text\n",
    "newsDescription = soup.find(\"div\", class_=\"article_teaser_body\").text\n",
    "\n",
    "print(newsTitle)\n",
    "print(newsDescription)"
   ]
  },
  {
   "cell_type": "code",
   "execution_count": null,
   "metadata": {},
   "outputs": [],
   "source": []
  },
  {
   "cell_type": "code",
   "execution_count": 3,
   "metadata": {},
   "outputs": [
    {
     "name": "stdout",
     "output_type": "stream",
     "text": [
      "https://www.jpl.nasa.gov/spaceimages/images/mediumsize/PIA14417_ip.jpg\n"
     ]
    }
   ],
   "source": [
    "# Visit the JPL site\n",
    "jplUrl = f\"https://www.jpl.nasa.gov\"\n",
    "marsImagesUrlParam = \"/spaceimages/?search=&category=Mars\"\n",
    "\n",
    "with Browser('chrome', **executable_path, headless=False) as browser:\n",
    "    browser.visit(jplUrl + marsImagesUrlParam)\n",
    "    soup = bs(browser.html, 'html.parser')\n",
    "    \n",
    "imageUrl = soup.find(\"a\", class_=\"button fancybox\")['data-fancybox-href']\n",
    "featured_image_url = jplUrl + imageUrl\n",
    "\n",
    "print(featured_image_url)"
   ]
  },
  {
   "cell_type": "code",
   "execution_count": null,
   "metadata": {},
   "outputs": [],
   "source": []
  },
  {
   "cell_type": "code",
   "execution_count": 6,
   "metadata": {},
   "outputs": [
    {
     "name": "stdout",
     "output_type": "stream",
     "text": [
      "InSight sol 263 (2019-08-23) low -100.9ºC (-149.6ºF) high -27.2ºC (-17.0ºF)\n",
      "winds from the SW at 4.1 m/s (9.2 mph) gusting to 18.3 m/s (40.9 mph)\n",
      "pressure at 7.60 hPa\n"
     ]
    }
   ],
   "source": [
    "# Mars Weather\n",
    "marsWeatherTwitterUrl = f\"https://twitter.com/marswxreport?lang=en\"\n",
    "\n",
    "with Browser('chrome', **executable_path, headless=False) as browser:\n",
    "    browser.visit(marsWeatherTwitterUrl)\n",
    "    soup = bs(browser.html, 'html.parser')\n",
    "\n",
    "# Scrape the weather - Gets the last weather tweet, not some other news tweets\n",
    "mars_weather = soup.find('p', text = re.compile('InSight'), \n",
    "                       attrs = {'class' : 'TweetTextSize TweetTextSize--normal js-tweet-text tweet-text'}).text\n",
    "print(mars_weather)"
   ]
  },
  {
   "cell_type": "code",
   "execution_count": null,
   "metadata": {},
   "outputs": [],
   "source": []
  },
  {
   "cell_type": "code",
   "execution_count": 5,
   "metadata": {},
   "outputs": [
    {
     "data": {
      "text/html": [
       "<div>\n",
       "<style scoped>\n",
       "    .dataframe tbody tr th:only-of-type {\n",
       "        vertical-align: middle;\n",
       "    }\n",
       "\n",
       "    .dataframe tbody tr th {\n",
       "        vertical-align: top;\n",
       "    }\n",
       "\n",
       "    .dataframe thead th {\n",
       "        text-align: right;\n",
       "    }\n",
       "</style>\n",
       "<table border=\"1\" class=\"dataframe\">\n",
       "  <thead>\n",
       "    <tr style=\"text-align: right;\">\n",
       "      <th></th>\n",
       "      <th>Value</th>\n",
       "    </tr>\n",
       "    <tr>\n",
       "      <th>Description</th>\n",
       "      <th></th>\n",
       "    </tr>\n",
       "  </thead>\n",
       "  <tbody>\n",
       "    <tr>\n",
       "      <th>Equatorial Diameter:</th>\n",
       "      <td>6,792 km</td>\n",
       "    </tr>\n",
       "    <tr>\n",
       "      <th>Polar Diameter:</th>\n",
       "      <td>6,752 km</td>\n",
       "    </tr>\n",
       "    <tr>\n",
       "      <th>Mass:</th>\n",
       "      <td>6.39 × 10^23 kg (0.11 Earths)</td>\n",
       "    </tr>\n",
       "    <tr>\n",
       "      <th>Moons:</th>\n",
       "      <td>2 (Phobos &amp; Deimos)</td>\n",
       "    </tr>\n",
       "    <tr>\n",
       "      <th>Orbit Distance:</th>\n",
       "      <td>227,943,824 km (1.38 AU)</td>\n",
       "    </tr>\n",
       "    <tr>\n",
       "      <th>Orbit Period:</th>\n",
       "      <td>687 days (1.9 years)</td>\n",
       "    </tr>\n",
       "    <tr>\n",
       "      <th>Surface Temperature:</th>\n",
       "      <td>-87 to -5 °C</td>\n",
       "    </tr>\n",
       "    <tr>\n",
       "      <th>First Record:</th>\n",
       "      <td>2nd millennium BC</td>\n",
       "    </tr>\n",
       "    <tr>\n",
       "      <th>Recorded By:</th>\n",
       "      <td>Egyptian astronomers</td>\n",
       "    </tr>\n",
       "  </tbody>\n",
       "</table>\n",
       "</div>"
      ],
      "text/plain": [
       "                                              Value\n",
       "Description                                        \n",
       "Equatorial Diameter:                       6,792 km\n",
       "Polar Diameter:                            6,752 km\n",
       "Mass:                 6.39 × 10^23 kg (0.11 Earths)\n",
       "Moons:                          2 (Phobos & Deimos)\n",
       "Orbit Distance:            227,943,824 km (1.38 AU)\n",
       "Orbit Period:                  687 days (1.9 years)\n",
       "Surface Temperature:                   -87 to -5 °C\n",
       "First Record:                     2nd millennium BC\n",
       "Recorded By:                   Egyptian astronomers"
      ]
     },
     "execution_count": 5,
     "metadata": {},
     "output_type": "execute_result"
    }
   ],
   "source": [
    "# Mars Facts\n",
    "marsFactsUrl = f\"https://space-facts.com/mars/\"\n",
    "marsFacts = pd.read_html(marsFactsUrl)\n",
    "marsFacts = marsFacts[1]\n",
    "marsFacts.columns = [\"Description\", \"Value\"]\n",
    "marsFacts.set_index(\"Description\", inplace = True)\n",
    "marsFacts"
   ]
  },
  {
   "cell_type": "code",
   "execution_count": null,
   "metadata": {},
   "outputs": [],
   "source": []
  },
  {
   "cell_type": "code",
   "execution_count": 66,
   "metadata": {},
   "outputs": [
    {
     "data": {
      "text/plain": [
       "[{'title': 'Cerberus Hemisphere',\n",
       "  'img_url': 'https://astrogeology.usgs.gov/cache/images/cfa62af2557222a02478f1fcd781d445_cerberus_enhanced.tif_full.jpg'},\n",
       " {'title': 'Schiaparelli Hemisphere',\n",
       "  'img_url': 'https://astrogeology.usgs.gov/cache/images/3cdd1cbf5e0813bba925c9030d13b62e_schiaparelli_enhanced.tif_full.jpg'},\n",
       " {'title': 'Syrtis Major Hemisphere',\n",
       "  'img_url': 'https://astrogeology.usgs.gov/cache/images/ae209b4e408bb6c3e67b6af38168cf28_syrtis_major_enhanced.tif_full.jpg'},\n",
       " {'title': 'Valles Marineris Hemisphere',\n",
       "  'img_url': 'https://astrogeology.usgs.gov/cache/images/7cf2da4bf549ed01c17f206327be4db7_valles_marineris_enhanced.tif_full.jpg'}]"
      ]
     },
     "execution_count": 66,
     "metadata": {},
     "output_type": "execute_result"
    }
   ],
   "source": [
    "# Mars Hemispheres\n",
    "\n",
    "astrogeologyUrl = f\"https://astrogeology.usgs.gov\"\n",
    "searchUrl = f\"/search/results?q=hemisphere+enhanced&k1=target&v1=Mars\"\n",
    "mainPageUrl = astrogeologyUrl + searchUrl\n",
    "\n",
    "imageList = []\n",
    "\n",
    "with Browser('chrome', **executable_path, headless=False) as browser:\n",
    "    browser.visit(mainPageUrl)\n",
    "    soup = bs(browser.html, 'html.parser')\n",
    "    \n",
    "    hemispheresLinks = soup.find_all(\"div\", class_=\"description\")\n",
    "    for link in hemispheresLinks:\n",
    "        hemisphereUrl = astrogeologyUrl + link.a[\"href\"]\n",
    "        browser.visit(hemisphereUrl)\n",
    "        soup = bs(browser.html, 'html.parser')\n",
    "        image = astrogeologyUrl + soup.find(\"img\", class_=\"wide-image\")[\"src\"]\n",
    "        title = soup.find(\"h2\", class_=\"title\").text.replace(\" Enhanced\", \"\")\n",
    "        imageList.append( { \"title\" : title, \"img_url\" : image } )\n",
    "\n",
    "imageList"
   ]
  },
  {
   "cell_type": "code",
   "execution_count": null,
   "metadata": {},
   "outputs": [],
   "source": []
  }
 ],
 "metadata": {
  "kernelspec": {
   "display_name": "Python 3",
   "language": "python",
   "name": "python3"
  },
  "language_info": {
   "codemirror_mode": {
    "name": "ipython",
    "version": 3
   },
   "file_extension": ".py",
   "mimetype": "text/x-python",
   "name": "python",
   "nbconvert_exporter": "python",
   "pygments_lexer": "ipython3",
   "version": "3.6.8"
  }
 },
 "nbformat": 4,
 "nbformat_minor": 2
}
