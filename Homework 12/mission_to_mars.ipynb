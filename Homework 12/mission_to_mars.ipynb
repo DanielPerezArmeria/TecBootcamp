{
 "cells": [
  {
   "cell_type": "code",
   "execution_count": 53,
   "metadata": {},
   "outputs": [],
   "source": [
    "# Imports\n",
    "\n",
    "import pandas as pd\n",
    "from bs4 import BeautifulSoup as bs\n",
    "import requests\n",
    "from splinter import Browser"
   ]
  },
  {
   "cell_type": "code",
   "execution_count": 31,
   "metadata": {},
   "outputs": [],
   "source": [
    "# Set up Splinter\n",
    "executable_path = {'executable_path': 'chromedriver.exe'}"
   ]
  },
  {
   "cell_type": "code",
   "execution_count": 32,
   "metadata": {},
   "outputs": [
    {
     "name": "stdout",
     "output_type": "stream",
     "text": [
      "What's Mars Solar Conjunction, and Why Does It Matter?\n",
      "NASA spacecraft at Mars are going to be on their own for a few weeks when the Sun comes between Mars and Earth, interrupting communications.\n"
     ]
    }
   ],
   "source": [
    "# Soupify the NASA Mars url\n",
    "url = f\"https://mars.nasa.gov/news/\"\n",
    "with Browser('chrome', **executable_path, headless=False) as browser:\n",
    "    browser.visit(url)\n",
    "    soup = bs(browser.html, 'html.parser')\n",
    "\n",
    "\n",
    "# Scrape the relevant data\n",
    "newsTitle = soup.find(\"div\", class_=\"content_title\").text\n",
    "newsDescription = soup.find(\"div\", class_=\"article_teaser_body\").text\n",
    "\n",
    "print(newsTitle)\n",
    "print(newsDescription)"
   ]
  },
  {
   "cell_type": "code",
   "execution_count": null,
   "metadata": {},
   "outputs": [],
   "source": []
  },
  {
   "cell_type": "code",
   "execution_count": 39,
   "metadata": {},
   "outputs": [
    {
     "name": "stdout",
     "output_type": "stream",
     "text": [
      "https://www.jpl.nasa.gov/spaceimages/images/wallpaper/PIA18811-1920x1200.jpg\n"
     ]
    }
   ],
   "source": [
    "# Visit the JPL site\n",
    "jplUrl = f\"https://www.jpl.nasa.gov\"\n",
    "marsImagesUrlParam = \"/spaceimages/?search=&category=Mars\"\n",
    "\n",
    "with Browser('chrome', **executable_path, headless=False) as browser:\n",
    "    browser.visit(jplUrl + marsImagesUrlParam)\n",
    "    soup = bs(browser.html, 'html.parser')\n",
    "    \n",
    "# Scrape the relevant data\n",
    "article = soup.find(\"article\", class_=\"carousel_item\")\n",
    "\n",
    "# Obtain the featured image url\n",
    "image = article[\"style\"].split(\"'\")\n",
    "featured_image_url = jplUrl + image[1]\n",
    "\n",
    "print(featured_image_url)"
   ]
  },
  {
   "cell_type": "code",
   "execution_count": null,
   "metadata": {},
   "outputs": [],
   "source": []
  },
  {
   "cell_type": "code",
   "execution_count": 51,
   "metadata": {},
   "outputs": [
    {
     "name": "stdout",
     "output_type": "stream",
     "text": [
      "InSight sol 261 (2019-08-21) low -102.4ºC (-152.4ºF) high -26.6ºC (-15.8ºF), winds from the SSE at 4.9 m/s (11.0 mph) gusting to 16.0 m/s (35.8 mph), pressure at 7.70 hPa\n"
     ]
    }
   ],
   "source": [
    "# Mars Weather\n",
    "marsWeatherTwitterUrl = f\"https://twitter.com/marswxreport?lang=en\"\n",
    "\n",
    "with Browser('chrome', **executable_path, headless=False) as browser:\n",
    "    browser.visit(marsWeatherTwitterUrl)\n",
    "    soup = bs(browser.html, 'html.parser')\n",
    "\n",
    "# Scrape the weather\n",
    "mars_weather = soup.find(\"div\", class_=\"js-tweet-text-container\")\n",
    "mars_weather = mars_weather.p.get_text(\"|\").split(\"|\")[0]\n",
    "mars_weather = mars_weather.replace(\"\\n\", \", \")\n",
    "print(mars_weather)"
   ]
  },
  {
   "cell_type": "code",
   "execution_count": null,
   "metadata": {},
   "outputs": [],
   "source": []
  },
  {
   "cell_type": "code",
   "execution_count": 58,
   "metadata": {},
   "outputs": [
    {
     "data": {
      "text/html": [
       "<div>\n",
       "<style scoped>\n",
       "    .dataframe tbody tr th:only-of-type {\n",
       "        vertical-align: middle;\n",
       "    }\n",
       "\n",
       "    .dataframe tbody tr th {\n",
       "        vertical-align: top;\n",
       "    }\n",
       "\n",
       "    .dataframe thead th {\n",
       "        text-align: right;\n",
       "    }\n",
       "</style>\n",
       "<table border=\"1\" class=\"dataframe\">\n",
       "  <thead>\n",
       "    <tr style=\"text-align: right;\">\n",
       "      <th></th>\n",
       "      <th>Description</th>\n",
       "      <th>Value</th>\n",
       "    </tr>\n",
       "  </thead>\n",
       "  <tbody>\n",
       "    <tr>\n",
       "      <th>0</th>\n",
       "      <td>Equatorial Diameter:</td>\n",
       "      <td>6,792 km</td>\n",
       "    </tr>\n",
       "    <tr>\n",
       "      <th>1</th>\n",
       "      <td>Polar Diameter:</td>\n",
       "      <td>6,752 km</td>\n",
       "    </tr>\n",
       "    <tr>\n",
       "      <th>2</th>\n",
       "      <td>Mass:</td>\n",
       "      <td>6.39 × 10^23 kg (0.11 Earths)</td>\n",
       "    </tr>\n",
       "    <tr>\n",
       "      <th>3</th>\n",
       "      <td>Moons:</td>\n",
       "      <td>2 (Phobos &amp; Deimos)</td>\n",
       "    </tr>\n",
       "    <tr>\n",
       "      <th>4</th>\n",
       "      <td>Orbit Distance:</td>\n",
       "      <td>227,943,824 km (1.38 AU)</td>\n",
       "    </tr>\n",
       "    <tr>\n",
       "      <th>5</th>\n",
       "      <td>Orbit Period:</td>\n",
       "      <td>687 days (1.9 years)</td>\n",
       "    </tr>\n",
       "    <tr>\n",
       "      <th>6</th>\n",
       "      <td>Surface Temperature:</td>\n",
       "      <td>-87 to -5 °C</td>\n",
       "    </tr>\n",
       "    <tr>\n",
       "      <th>7</th>\n",
       "      <td>First Record:</td>\n",
       "      <td>2nd millennium BC</td>\n",
       "    </tr>\n",
       "    <tr>\n",
       "      <th>8</th>\n",
       "      <td>Recorded By:</td>\n",
       "      <td>Egyptian astronomers</td>\n",
       "    </tr>\n",
       "  </tbody>\n",
       "</table>\n",
       "</div>"
      ],
      "text/plain": [
       "            Description                          Value\n",
       "0  Equatorial Diameter:                       6,792 km\n",
       "1       Polar Diameter:                       6,752 km\n",
       "2                 Mass:  6.39 × 10^23 kg (0.11 Earths)\n",
       "3                Moons:            2 (Phobos & Deimos)\n",
       "4       Orbit Distance:       227,943,824 km (1.38 AU)\n",
       "5         Orbit Period:           687 days (1.9 years)\n",
       "6  Surface Temperature:                   -87 to -5 °C\n",
       "7         First Record:              2nd millennium BC\n",
       "8          Recorded By:           Egyptian astronomers"
      ]
     },
     "execution_count": 58,
     "metadata": {},
     "output_type": "execute_result"
    }
   ],
   "source": [
    "# Mars Facts\n",
    "marsFactsUrl = f\"https://space-facts.com/mars/\"\n",
    "marsFacts = pd.read_html(marsFactsUrl)\n",
    "marsFacts = marsFacts[1]\n",
    "marsFacts.columns = [\"Description\", \"Value\"]\n",
    "marsFacts"
   ]
  },
  {
   "cell_type": "code",
   "execution_count": null,
   "metadata": {},
   "outputs": [],
   "source": []
  },
  {
   "cell_type": "code",
   "execution_count": 66,
   "metadata": {},
   "outputs": [
    {
     "data": {
      "text/plain": [
       "[{'title': 'Cerberus Hemisphere',\n",
       "  'img_url': 'https://astrogeology.usgs.gov/cache/images/cfa62af2557222a02478f1fcd781d445_cerberus_enhanced.tif_full.jpg'},\n",
       " {'title': 'Schiaparelli Hemisphere',\n",
       "  'img_url': 'https://astrogeology.usgs.gov/cache/images/3cdd1cbf5e0813bba925c9030d13b62e_schiaparelli_enhanced.tif_full.jpg'},\n",
       " {'title': 'Syrtis Major Hemisphere',\n",
       "  'img_url': 'https://astrogeology.usgs.gov/cache/images/ae209b4e408bb6c3e67b6af38168cf28_syrtis_major_enhanced.tif_full.jpg'},\n",
       " {'title': 'Valles Marineris Hemisphere',\n",
       "  'img_url': 'https://astrogeology.usgs.gov/cache/images/7cf2da4bf549ed01c17f206327be4db7_valles_marineris_enhanced.tif_full.jpg'}]"
      ]
     },
     "execution_count": 66,
     "metadata": {},
     "output_type": "execute_result"
    }
   ],
   "source": [
    "# Mars Hemispheres\n",
    "\n",
    "astrogeologyUrl = f\"https://astrogeology.usgs.gov\"\n",
    "searchUrl = f\"/search/results?q=hemisphere+enhanced&k1=target&v1=Mars\"\n",
    "mainPageUrl = astrogeologyUrl + searchUrl\n",
    "\n",
    "imageList = []\n",
    "\n",
    "with Browser('chrome', **executable_path, headless=False) as browser:\n",
    "    browser.visit(mainPageUrl)\n",
    "    soup = bs(browser.html, 'html.parser')\n",
    "    \n",
    "    hemispheresLinks = soup.find_all(\"div\", class_=\"description\")\n",
    "    for link in hemishperesLinks:\n",
    "        hemisphereUrl = astrogeologyUrl + link.a[\"href\"]\n",
    "        browser.visit(hemisphereUrl)\n",
    "        soup = bs(browser.html, 'html.parser')\n",
    "        image = astrogeologyUrl + soup.find(\"img\", class_=\"wide-image\")[\"src\"]\n",
    "        title = soup.find(\"h2\", class_=\"title\").text.replace(\" Enhanced\", \"\")\n",
    "        imageList.append( { \"title\" : title, \"img_url\" : image } )\n",
    "\n",
    "imageList"
   ]
  },
  {
   "cell_type": "code",
   "execution_count": null,
   "metadata": {},
   "outputs": [],
   "source": []
  }
 ],
 "metadata": {
  "kernelspec": {
   "display_name": "Python 3",
   "language": "python",
   "name": "python3"
  },
  "language_info": {
   "codemirror_mode": {
    "name": "ipython",
    "version": 3
   },
   "file_extension": ".py",
   "mimetype": "text/x-python",
   "name": "python",
   "nbconvert_exporter": "python",
   "pygments_lexer": "ipython3",
   "version": "3.6.8"
  }
 },
 "nbformat": 4,
 "nbformat_minor": 2
}
